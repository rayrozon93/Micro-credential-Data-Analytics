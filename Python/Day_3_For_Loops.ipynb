{
  "nbformat": 4,
  "nbformat_minor": 0,
  "metadata": {
    "colab": {
      "name": "Day 3 For Loops.ipynb",
      "provenance": [],
      "collapsed_sections": [],
      "authorship_tag": "ABX9TyMU4aZfdreg2LK6VBcq61yj",
      "include_colab_link": true
    },
    "kernelspec": {
      "name": "python3",
      "display_name": "Python 3"
    },
    "language_info": {
      "name": "python"
    }
  },
  "cells": [
    {
      "cell_type": "markdown",
      "metadata": {
        "id": "view-in-github",
        "colab_type": "text"
      },
      "source": [
        "<a href=\"https://colab.research.google.com/github/rayrozon93/Micro-credential-Data-Analytics/blob/main/Day_3_For_Loops.ipynb\" target=\"_parent\"><img src=\"https://colab.research.google.com/assets/colab-badge.svg\" alt=\"Open In Colab\"/></a>"
      ]
    },
    {
      "cell_type": "markdown",
      "source": [
        "#For Loops"
      ],
      "metadata": {
        "id": "0F8zB9q97Akn"
      }
    },
    {
      "cell_type": "code",
      "source": [
        "for x in 'CUNY':\n",
        "  print(x)"
      ],
      "metadata": {
        "colab": {
          "base_uri": "https://localhost:8080/"
        },
        "id": "vmfO3I8e7t2L",
        "outputId": "281ec609-ae13-4add-c7f6-412f05be903b"
      },
      "execution_count": 1,
      "outputs": [
        {
          "output_type": "stream",
          "name": "stdout",
          "text": [
            "C\n",
            "U\n",
            "N\n",
            "Y\n"
          ]
        }
      ]
    },
    {
      "cell_type": "code",
      "source": [
        "TV_Shows = ['Game of Thrones', 'Star Trek', 'Stranger Things']"
      ],
      "metadata": {
        "id": "baGKRJXj7tzZ"
      },
      "execution_count": 3,
      "outputs": []
    },
    {
      "cell_type": "code",
      "source": [
        "for Shows in TV_Shows:\n",
        "  print(Shows)"
      ],
      "metadata": {
        "colab": {
          "base_uri": "https://localhost:8080/"
        },
        "id": "FVZ1DPw37twK",
        "outputId": "dd516225-872e-4c87-9e1f-45800cb1ca40"
      },
      "execution_count": 4,
      "outputs": [
        {
          "output_type": "stream",
          "name": "stdout",
          "text": [
            "Game of Thrones\n",
            "Star Trek\n",
            "Stranger Things\n"
          ]
        }
      ]
    },
    {
      "cell_type": "code",
      "source": [
        "TV_Shows"
      ],
      "metadata": {
        "colab": {
          "base_uri": "https://localhost:8080/"
        },
        "id": "QcKuMqHi7ttP",
        "outputId": "2e5385f5-d3d7-4eae-daca-0c7f320d5c9a"
      },
      "execution_count": 5,
      "outputs": [
        {
          "output_type": "execute_result",
          "data": {
            "text/plain": [
              "['Game of Thrones', 'Star Trek', 'Stranger Things']"
            ]
          },
          "metadata": {},
          "execution_count": 5
        }
      ]
    },
    {
      "cell_type": "code",
      "source": [
        "for Shows in TV_Shows:\n",
        "  print(Shows.title() + ' is one of my favorite TV shows')"
      ],
      "metadata": {
        "colab": {
          "base_uri": "https://localhost:8080/"
        },
        "id": "NiutEdgR7tq7",
        "outputId": "f463bcd7-ff35-43fe-ca32-6730af166d45"
      },
      "execution_count": 7,
      "outputs": [
        {
          "output_type": "stream",
          "name": "stdout",
          "text": [
            "Game Of Thrones is one of my favorite TV shows\n",
            "Star Trek is one of my favorite TV shows\n",
            "Stranger Things is one of my favorite TV shows\n"
          ]
        }
      ]
    },
    {
      "cell_type": "code",
      "source": [
        "for Shows in TV_Shows:\n",
        "  print(Shows.upper() + ' is one of my favorite TV shows')"
      ],
      "metadata": {
        "colab": {
          "base_uri": "https://localhost:8080/"
        },
        "id": "EiW-mG_p7toz",
        "outputId": "5bbab362-c906-407a-fe05-d2603dd21d6f"
      },
      "execution_count": 8,
      "outputs": [
        {
          "output_type": "stream",
          "name": "stdout",
          "text": [
            "GAME OF THRONES is one of my favorite TV shows\n",
            "STAR TREK is one of my favorite TV shows\n",
            "STRANGER THINGS is one of my favorite TV shows\n"
          ]
        }
      ]
    },
    {
      "cell_type": "code",
      "source": [
        "fruits = []"
      ],
      "metadata": {
        "id": "VS6DMWKC7tmR"
      },
      "execution_count": 9,
      "outputs": []
    },
    {
      "cell_type": "code",
      "source": [
        "fruits.append('Lemons')"
      ],
      "metadata": {
        "id": "e9UhOyz58hg4"
      },
      "execution_count": 20,
      "outputs": []
    },
    {
      "cell_type": "code",
      "source": [
        "fruits"
      ],
      "metadata": {
        "colab": {
          "base_uri": "https://localhost:8080/"
        },
        "id": "8C8duODI8hdI",
        "outputId": "5dc679f9-f9a8-4628-a71d-ca71b150ed8f"
      },
      "execution_count": 21,
      "outputs": [
        {
          "output_type": "execute_result",
          "data": {
            "text/plain": [
              "['Bananas',\n",
              " 'Pears',\n",
              " 'Oranges',\n",
              " 'Mangos',\n",
              " 'Blue Berries',\n",
              " 'Strawberries',\n",
              " 'Dragon Fruit',\n",
              " 'Apples',\n",
              " 'Lemons']"
            ]
          },
          "metadata": {},
          "execution_count": 21
        }
      ]
    },
    {
      "cell_type": "code",
      "source": [
        "for x in fruits:\n",
        "  print(x.title() + ' is some of my favorite fruit!')"
      ],
      "metadata": {
        "colab": {
          "base_uri": "https://localhost:8080/"
        },
        "id": "Rhqmj3VF8hav",
        "outputId": "8f3210d3-0318-465b-9f5d-2e9e848ea5a8"
      },
      "execution_count": 27,
      "outputs": [
        {
          "output_type": "stream",
          "name": "stdout",
          "text": [
            "Bananas is some of my favorite fruit!\n",
            "Pears is some of my favorite fruit!\n",
            "Oranges is some of my favorite fruit!\n",
            "Mangos is some of my favorite fruit!\n",
            "Blue Berries is some of my favorite fruit!\n",
            "Strawberries is some of my favorite fruit!\n",
            "Dragon Fruit is some of my favorite fruit!\n",
            "Apples is some of my favorite fruit!\n",
            "Lemons is some of my favorite fruit!\n"
          ]
        }
      ]
    },
    {
      "cell_type": "code",
      "source": [
        "for x in range(1,21):\n",
        "  print(x)"
      ],
      "metadata": {
        "colab": {
          "base_uri": "https://localhost:8080/"
        },
        "id": "2S3Mlcun8hYU",
        "outputId": "77ff7863-92f5-46b3-f185-495bc421afe0"
      },
      "execution_count": 28,
      "outputs": [
        {
          "output_type": "stream",
          "name": "stdout",
          "text": [
            "1\n",
            "2\n",
            "3\n",
            "4\n",
            "5\n",
            "6\n",
            "7\n",
            "8\n",
            "9\n",
            "10\n",
            "11\n",
            "12\n",
            "13\n",
            "14\n",
            "15\n",
            "16\n",
            "17\n",
            "18\n",
            "19\n",
            "20\n"
          ]
        }
      ]
    },
    {
      "cell_type": "code",
      "source": [
        "for x in range(1,21):\n",
        "  print(x+3)"
      ],
      "metadata": {
        "colab": {
          "base_uri": "https://localhost:8080/"
        },
        "id": "7TKd1eID8hVC",
        "outputId": "92e25e79-8ffe-4cc1-cb73-f1d7be281bc1"
      },
      "execution_count": 29,
      "outputs": [
        {
          "output_type": "stream",
          "name": "stdout",
          "text": [
            "4\n",
            "5\n",
            "6\n",
            "7\n",
            "8\n",
            "9\n",
            "10\n",
            "11\n",
            "12\n",
            "13\n",
            "14\n",
            "15\n",
            "16\n",
            "17\n",
            "18\n",
            "19\n",
            "20\n",
            "21\n",
            "22\n",
            "23\n"
          ]
        }
      ]
    },
    {
      "cell_type": "code",
      "source": [
        "list(range(1,21,3))"
      ],
      "metadata": {
        "colab": {
          "base_uri": "https://localhost:8080/"
        },
        "id": "7ZvRCFSG8hPf",
        "outputId": "234a4181-c454-4429-f2bd-da55bdc9c5ba"
      },
      "execution_count": 30,
      "outputs": [
        {
          "output_type": "execute_result",
          "data": {
            "text/plain": [
              "[1, 4, 7, 10, 13, 16, 19]"
            ]
          },
          "metadata": {},
          "execution_count": 30
        }
      ]
    },
    {
      "cell_type": "code",
      "source": [
        "l = [1,2,3,4,5,6,7,8,9,10, 23, 5, 6, 87, 98765, 345, 52, 3465, 4123, 454, 90]"
      ],
      "metadata": {
        "id": "z3yeU68ADOlm"
      },
      "execution_count": 31,
      "outputs": []
    },
    {
      "cell_type": "code",
      "source": [
        "for x in l:\n",
        "  if x % 2 == 1:\n",
        "    print(x)\n",
        "  else:\n",
        "    print(x, 'this is not an odd number.')  "
      ],
      "metadata": {
        "colab": {
          "base_uri": "https://localhost:8080/"
        },
        "id": "7PU9SuQ1E5wP",
        "outputId": "d110b2e6-445a-4b4f-e663-69482a9c5735"
      },
      "execution_count": 32,
      "outputs": [
        {
          "output_type": "stream",
          "name": "stdout",
          "text": [
            "1\n",
            "2 this is not an odd number.\n",
            "3\n",
            "4 this is not an odd number.\n",
            "5\n",
            "6 this is not an odd number.\n",
            "7\n",
            "8 this is not an odd number.\n",
            "9\n",
            "10 this is not an odd number.\n",
            "23\n",
            "5\n",
            "6 this is not an odd number.\n",
            "87\n",
            "98765\n",
            "345\n",
            "52 this is not an odd number.\n",
            "3465\n",
            "4123\n",
            "454 this is not an odd number.\n",
            "90 this is not an odd number.\n"
          ]
        }
      ]
    },
    {
      "cell_type": "code",
      "source": [
        "listSum = 0\n",
        "\n",
        "for num in l:\n",
        "  listSum = listSum + num\n",
        "\n",
        "print(listSum)  "
      ],
      "metadata": {
        "colab": {
          "base_uri": "https://localhost:8080/"
        },
        "id": "OQ8tSvYYFPhZ",
        "outputId": "a301db38-aed6-426c-a8bb-71d229e286a3"
      },
      "execution_count": 33,
      "outputs": [
        {
          "output_type": "stream",
          "name": "stdout",
          "text": [
            "107470\n"
          ]
        }
      ]
    },
    {
      "cell_type": "code",
      "source": [
        "l2 = [12, 34, 445, 234, 23244]"
      ],
      "metadata": {
        "id": "VTfaul5BGkK1"
      },
      "execution_count": 34,
      "outputs": []
    },
    {
      "cell_type": "code",
      "source": [
        "listSum = 0\n",
        "\n",
        "for num in l2:\n",
        "  listSum = listSum + num\n",
        "\n",
        "print(listSum) "
      ],
      "metadata": {
        "colab": {
          "base_uri": "https://localhost:8080/"
        },
        "id": "ZHiEmDgoGs2c",
        "outputId": "3dc7aa94-c98c-4b8a-ee2f-088d924fb68f"
      },
      "execution_count": 35,
      "outputs": [
        {
          "output_type": "stream",
          "name": "stdout",
          "text": [
            "23969\n"
          ]
        }
      ]
    },
    {
      "cell_type": "code",
      "source": [
        "dy = {'k1': 1, 'k2': 2, 'k3': 3, 'k4': 4}"
      ],
      "metadata": {
        "id": "ZIooi4gKGwae"
      },
      "execution_count": 36,
      "outputs": []
    },
    {
      "cell_type": "code",
      "source": [
        "dy"
      ],
      "metadata": {
        "colab": {
          "base_uri": "https://localhost:8080/"
        },
        "id": "rrUSwlv1G9x6",
        "outputId": "3e9843d9-6378-4382-f6b0-2c47d7ebf547"
      },
      "execution_count": 37,
      "outputs": [
        {
          "output_type": "execute_result",
          "data": {
            "text/plain": [
              "{'k1': 1, 'k2': 2, 'k3': 3, 'k4': 4}"
            ]
          },
          "metadata": {},
          "execution_count": 37
        }
      ]
    },
    {
      "cell_type": "code",
      "source": [
        "for item in dy:\n",
        "  print(item)"
      ],
      "metadata": {
        "colab": {
          "base_uri": "https://localhost:8080/"
        },
        "id": "0bR2J501G-mA",
        "outputId": "e6fbbe78-322d-436f-b52f-0e6e5b4825c9"
      },
      "execution_count": 38,
      "outputs": [
        {
          "output_type": "stream",
          "name": "stdout",
          "text": [
            "k1\n",
            "k2\n",
            "k3\n",
            "k4\n"
          ]
        }
      ]
    },
    {
      "cell_type": "code",
      "source": [
        "for a,b in dy.items():\n",
        "  print(a)\n",
        "  print(b)"
      ],
      "metadata": {
        "colab": {
          "base_uri": "https://localhost:8080/"
        },
        "id": "0DN-N4ncHE2S",
        "outputId": "ae6c7c41-6f50-4482-a312-dfb8edc9d2d7"
      },
      "execution_count": 41,
      "outputs": [
        {
          "output_type": "stream",
          "name": "stdout",
          "text": [
            "k1\n",
            "1\n",
            "k2\n",
            "2\n",
            "k3\n",
            "3\n",
            "k4\n",
            "4\n"
          ]
        }
      ]
    },
    {
      "cell_type": "code",
      "source": [
        ""
      ],
      "metadata": {
        "id": "BCTJTLo1HR6_"
      },
      "execution_count": null,
      "outputs": []
    }
  ]
}
