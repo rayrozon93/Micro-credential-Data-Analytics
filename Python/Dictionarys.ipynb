{
  "nbformat": 4,
  "nbformat_minor": 0,
  "metadata": {
    "colab": {
      "name": "Unit 2 L6 Assignment.ipynb",
      "provenance": [],
      "collapsed_sections": [],
      "authorship_tag": "ABX9TyOyePsl1C7S51t53pN5eapc",
      "include_colab_link": true
    },
    "kernelspec": {
      "name": "python3",
      "display_name": "Python 3"
    },
    "language_info": {
      "name": "python"
    }
  },
  "cells": [
    {
      "cell_type": "markdown",
      "metadata": {
        "id": "view-in-github",
        "colab_type": "text"
      },
      "source": [
        "<a href=\"https://colab.research.google.com/github/rayrozon93/Micro-credential-Data-Analytics/blob/main/Unit_2_L6_Assignment.ipynb\" target=\"_parent\"><img src=\"https://colab.research.google.com/assets/colab-badge.svg\" alt=\"Open In Colab\"/></a>"
      ]
    },
    {
      "cell_type": "markdown",
      "source": [
        "#Create a simple dictionary that stores 2 variables, for example: first and last name."
      ],
      "metadata": {
        "id": "eekqQGfTfKUh"
      }
    },
    {
      "cell_type": "code",
      "source": [
        "employees = {'First Name': 'Chad', 'Last Name': 'Johnson'}\n",
        "print(employees)"
      ],
      "metadata": {
        "colab": {
          "base_uri": "https://localhost:8080/"
        },
        "id": "XakQcLsJfSCz",
        "outputId": "19e68739-a38f-41bd-fe36-f0aac5a4e4aa"
      },
      "execution_count": 1,
      "outputs": [
        {
          "output_type": "stream",
          "name": "stdout",
          "text": [
            "{'First Name': 'Chad', 'Last Name': 'Johnson'}\n"
          ]
        }
      ]
    },
    {
      "cell_type": "markdown",
      "source": [
        "#Print out those variables stored in your previous dictionary. "
      ],
      "metadata": {
        "id": "oWmVia0ZfR_-"
      }
    },
    {
      "cell_type": "code",
      "source": [
        "print(employees)"
      ],
      "metadata": {
        "colab": {
          "base_uri": "https://localhost:8080/"
        },
        "id": "4X-jQ7xCfR8u",
        "outputId": "bc1df10d-2772-4f5e-97f7-a3b37b76c2e4"
      },
      "execution_count": 2,
      "outputs": [
        {
          "output_type": "stream",
          "name": "stdout",
          "text": [
            "{'First Name': 'Chad', 'Last Name': 'Johnson'}\n"
          ]
        }
      ]
    },
    {
      "cell_type": "markdown",
      "source": [
        "#Add a message to those variables on printing: for example: “Hello, firstname lastname!”"
      ],
      "metadata": {
        "id": "AuWBbagGfR49"
      }
    },
    {
      "cell_type": "code",
      "source": [
        "print('Hello, ' + employees['First Name'] + ' ' + employees['Last Name'] + '!')"
      ],
      "metadata": {
        "colab": {
          "base_uri": "https://localhost:8080/"
        },
        "id": "_2wHmO0yfR1k",
        "outputId": "f3cd7950-0735-4da4-eb7e-63e96b291392"
      },
      "execution_count": 9,
      "outputs": [
        {
          "output_type": "stream",
          "name": "stdout",
          "text": [
            "Hello, Chad Johnson!\n"
          ]
        }
      ]
    },
    {
      "cell_type": "markdown",
      "source": [
        "#Create a dictionary that holds 2 key: value pairs:\n",
        "#Look through your dictionary and print each pair\n"
      ],
      "metadata": {
        "id": "R2KNsbx8fRyt"
      }
    },
    {
      "cell_type": "code",
      "source": [
        "games = {'Nintendo': 'Switch', 'Play Station': 'PS5'}"
      ],
      "metadata": {
        "id": "-aPf3dYTfRu9"
      },
      "execution_count": 26,
      "outputs": []
    },
    {
      "cell_type": "code",
      "source": [
        "print(games)"
      ],
      "metadata": {
        "colab": {
          "base_uri": "https://localhost:8080/"
        },
        "id": "dUFprNH_mQq0",
        "outputId": "ea0b7f6d-a223-4f01-c0b8-0a92fe84d1a9"
      },
      "execution_count": 27,
      "outputs": [
        {
          "output_type": "stream",
          "name": "stdout",
          "text": [
            "{'Nintendo': 'Switch', 'Play Station': 'PS5'}\n"
          ]
        }
      ]
    },
    {
      "cell_type": "markdown",
      "source": [
        "#Create a nested dictionary containing three dictionaries – these dictionaries could be anything (favorite pets, travel locations, etc.)\n",
        "Loop through the dictionaries and print a message for each.\n"
      ],
      "metadata": {
        "id": "Y15TDxwafRsT"
      }
    },
    {
      "cell_type": "code",
      "source": [
        "albums =  { 'Pop': {'name': 'Bruno Mars', 'age': '27', 'sex': 'Male'},\n",
        "          'HipHop': {'name': 'Drake', 'age': '35', 'sex': 'Male'},\n",
        "          'R&B': {'name': 'Usher', 'age': '45', 'sex': 'Male'}\n",
        "          }"
      ],
      "metadata": {
        "id": "jl1la290fRp_"
      },
      "execution_count": 15,
      "outputs": []
    },
    {
      "cell_type": "code",
      "source": [
        "for x in albums:\n",
        "  print('One of my favorite music genres is',x) "
      ],
      "metadata": {
        "colab": {
          "base_uri": "https://localhost:8080/"
        },
        "id": "c8lh3X4mjcl2",
        "outputId": "cc9e9aca-0d6c-4092-d733-a38f0356db58"
      },
      "execution_count": 20,
      "outputs": [
        {
          "output_type": "stream",
          "name": "stdout",
          "text": [
            "One of my favorite music genres is Pop\n",
            "One of my favorite music genres is HipHop\n",
            "One of my favorite music genres is R&B\n"
          ]
        }
      ]
    }
  ]
}
