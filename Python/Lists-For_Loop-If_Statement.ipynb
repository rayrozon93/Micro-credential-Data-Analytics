{
  "nbformat": 4,
  "nbformat_minor": 0,
  "metadata": {
    "colab": {
      "name": "Unit 2 L4 Assignment.ipynb",
      "provenance": [],
      "collapsed_sections": [],
      "authorship_tag": "ABX9TyPugzQraJRqPUEfOwkCXeEy",
      "include_colab_link": true
    },
    "kernelspec": {
      "name": "python3",
      "display_name": "Python 3"
    },
    "language_info": {
      "name": "python"
    }
  },
  "cells": [
    {
      "cell_type": "markdown",
      "metadata": {
        "id": "view-in-github",
        "colab_type": "text"
      },
      "source": [
        "<a href=\"https://colab.research.google.com/github/rayrozon93/Micro-credential-Data-Analytics/blob/main/Unit_2_L4_Assignment.ipynb\" target=\"_parent\"><img src=\"https://colab.research.google.com/assets/colab-badge.svg\" alt=\"Open In Colab\"/></a>"
      ]
    },
    {
      "cell_type": "markdown",
      "source": [
        "#Create a list that holds 5 data variables. "
      ],
      "metadata": {
        "id": "3ZbcUbNDahgW"
      }
    },
    {
      "cell_type": "code",
      "execution_count": 1,
      "metadata": {
        "id": "IQTrQFi6aK4s"
      },
      "outputs": [],
      "source": [
        "cars = [\"Volvo\", \"BMW\", \"Honda\", \"Toyota\", \"Nissan\"]"
      ]
    },
    {
      "cell_type": "markdown",
      "source": [
        "#Print out those variables by using a for loop."
      ],
      "metadata": {
        "id": "ch0O77NEaegr"
      }
    },
    {
      "cell_type": "code",
      "source": [
        "for x in cars:\n",
        "  print(x)"
      ],
      "metadata": {
        "colab": {
          "base_uri": "https://localhost:8080/"
        },
        "id": "7zMuVbFKaqyk",
        "outputId": "b131486b-eba4-46a6-df05-4bf8361c57f1"
      },
      "execution_count": 3,
      "outputs": [
        {
          "output_type": "stream",
          "name": "stdout",
          "text": [
            "Volvo\n",
            "BMW\n",
            "Honda\n",
            "Toyota\n",
            "Nissan\n"
          ]
        }
      ]
    },
    {
      "cell_type": "markdown",
      "source": [
        "#Modify your for loop to add a message to your for loop."
      ],
      "metadata": {
        "id": "R2ElK2u-aquk"
      }
    },
    {
      "cell_type": "code",
      "source": [
        "for x in cars:\n",
        "  print('A car that i see often is a ' + x)"
      ],
      "metadata": {
        "colab": {
          "base_uri": "https://localhost:8080/"
        },
        "id": "xNrn4IxYaqr4",
        "outputId": "f665b809-aadc-4bbc-c1ce-0cd99e76dc00"
      },
      "execution_count": 5,
      "outputs": [
        {
          "output_type": "stream",
          "name": "stdout",
          "text": [
            "A car that i see often is a Volvo\n",
            "A car that i see often is a BMW\n",
            "A car that i see often is a Honda\n",
            "A car that i see often is a Toyota\n",
            "A car that i see often is a Nissan\n"
          ]
        }
      ]
    },
    {
      "cell_type": "markdown",
      "source": [
        "#Use a for loop to print even numbers from 1-20."
      ],
      "metadata": {
        "id": "pSlpKXKdaqo5"
      }
    },
    {
      "cell_type": "code",
      "source": [
        "for x in range(1,21):\n",
        "  if x % 2 == 0:\n",
        "    print(x)"
      ],
      "metadata": {
        "colab": {
          "base_uri": "https://localhost:8080/"
        },
        "id": "0iMMm-89aqlM",
        "outputId": "f3161b58-3421-47b9-b1a6-dc5a35721aaf"
      },
      "execution_count": 7,
      "outputs": [
        {
          "output_type": "stream",
          "name": "stdout",
          "text": [
            "2\n",
            "4\n",
            "6\n",
            "8\n",
            "10\n",
            "12\n",
            "14\n",
            "16\n",
            "18\n",
            "20\n"
          ]
        }
      ]
    },
    {
      "cell_type": "markdown",
      "source": [
        "#Sort your list in alphabetic order."
      ],
      "metadata": {
        "id": "wvprutfZaqi1"
      }
    },
    {
      "cell_type": "code",
      "source": [
        "sorted(cars)\n",
        "print(sorted(cars))\n"
      ],
      "metadata": {
        "colab": {
          "base_uri": "https://localhost:8080/"
        },
        "id": "MIFHoOMsbmw_",
        "outputId": "dcddffc3-1661-487c-e35c-8f44d4eab47a"
      },
      "execution_count": 11,
      "outputs": [
        {
          "output_type": "stream",
          "name": "stdout",
          "text": [
            "['BMW', 'Honda', 'Nissan', 'Toyota', 'Volvo']\n"
          ]
        }
      ]
    },
    {
      "cell_type": "markdown",
      "source": [
        "#Print out the first three elements of your list."
      ],
      "metadata": {
        "id": "NJVwhkugbmun"
      }
    },
    {
      "cell_type": "code",
      "source": [
        "print(cars[0:3])"
      ],
      "metadata": {
        "colab": {
          "base_uri": "https://localhost:8080/"
        },
        "id": "CWO2gX88dYgL",
        "outputId": "4f65722e-5b43-4de2-fd30-04efde4691b1"
      },
      "execution_count": 9,
      "outputs": [
        {
          "output_type": "stream",
          "name": "stdout",
          "text": [
            "['Volvo', 'BMW', 'Honda']\n"
          ]
        }
      ]
    },
    {
      "cell_type": "markdown",
      "source": [
        "#Create a loop to print the last 2 elements of your list."
      ],
      "metadata": {
        "id": "uIoXSkIKdYdq"
      }
    },
    {
      "cell_type": "code",
      "source": [
        "for x in cars:\n",
        "  if x == cars[-2]:\n",
        "    print(x)\n",
        "  if x == cars[-1]:\n",
        "    print(x)  "
      ],
      "metadata": {
        "colab": {
          "base_uri": "https://localhost:8080/"
        },
        "id": "MWNvCvQ8dYXP",
        "outputId": "f27f311c-ee18-4087-81d1-63535dcec7ac"
      },
      "execution_count": 12,
      "outputs": [
        {
          "output_type": "stream",
          "name": "stdout",
          "text": [
            "Toyota\n",
            "Nissan\n"
          ]
        }
      ]
    },
    {
      "cell_type": "code",
      "source": [
        ""
      ],
      "metadata": {
        "id": "8unTs_S7dYMP"
      },
      "execution_count": null,
      "outputs": []
    },
    {
      "cell_type": "code",
      "source": [
        ""
      ],
      "metadata": {
        "id": "HmqXDLMRdYJS"
      },
      "execution_count": null,
      "outputs": []
    },
    {
      "cell_type": "code",
      "source": [
        ""
      ],
      "metadata": {
        "id": "ygNNnjsobmsQ"
      },
      "execution_count": null,
      "outputs": []
    }
  ]
}
