{
  "nbformat": 4,
  "nbformat_minor": 0,
  "metadata": {
    "colab": {
      "name": "Day4 Unit2 Project.ipynb",
      "provenance": [],
      "collapsed_sections": [],
      "authorship_tag": "ABX9TyNWpW3LGNiyoXN8Zhy9tC4y",
      "include_colab_link": true
    },
    "kernelspec": {
      "name": "python3",
      "display_name": "Python 3"
    },
    "language_info": {
      "name": "python"
    }
  },
  "cells": [
    {
      "cell_type": "markdown",
      "metadata": {
        "id": "view-in-github",
        "colab_type": "text"
      },
      "source": [
        "<a href=\"https://colab.research.google.com/github/rayrozon93/Micro-credential-Data-Analytics/blob/main/Day4_Unit2_Project.ipynb\" target=\"_parent\"><img src=\"https://colab.research.google.com/assets/colab-badge.svg\" alt=\"Open In Colab\"/></a>"
      ]
    },
    {
      "cell_type": "code",
      "execution_count": 29,
      "metadata": {
        "id": "yrWujgwIvt8V"
      },
      "outputs": [],
      "source": [
        "#Here, i am defining the function that will tell the \n",
        "#user if the input is odd or even\n",
        "def odd_or_even():\n",
        "  '''\n",
        "  Author: Ray Rozon\n",
        "  Input: 1 integer\n",
        "  Output: A prompt notifying the user if the input is even or odd.\n",
        "  '''\n",
        "\n",
        "#Here, i am assigning the input of the user to the variable num1\n",
        "  num1 = int(input('Enter a number: '))\n",
        "\n",
        "\n",
        "#Here i am simply checking to see if the number is divisible by 2.\n",
        "#If so, the number is even. Otherwise, the number is odd.  \n",
        "#The modulus operator (%), returns the remainder.   \n",
        "  if num1 % 2 == 0:\n",
        "    print(f'{num1} is an even number')\n",
        "    if num1 % 4 == 0 and num1 % 2 == 0:\n",
        "      print(f'{num1} is also a multiple of 4')\n",
        "  else:\n",
        "    print(f'{num1} is an odd number.')  "
      ]
    },
    {
      "cell_type": "code",
      "source": [
        "odd_or_even()"
      ],
      "metadata": {
        "colab": {
          "base_uri": "https://localhost:8080/"
        },
        "id": "X14gsXYZxCYC",
        "outputId": "30c445df-643b-4f01-c7da-bc16a5ec3749"
      },
      "execution_count": 32,
      "outputs": [
        {
          "output_type": "stream",
          "name": "stdout",
          "text": [
            "Enter a number: -45\n",
            "-45 is an odd number.\n"
          ]
        }
      ]
    },
    {
      "cell_type": "code",
      "source": [
        "#Here I am defining the function to check if numbers a evenly divisible\n",
        "def numCheck():\n",
        "  '''\n",
        "  Author: Ray Rozon\n",
        "  Input: 2 integers\n",
        "  Output: A prompt notifiying the user if the \n",
        "  '''\n",
        "\n",
        "  #I am asking for user input\n",
        "  print('Input 2 different numbers to see if the second divides evenly into the first: ')\n",
        "\n",
        "  #Separating the inputs. One is the number you are checking, the other\n",
        "  #is the number you are using to check\n",
        "  num = int(input())\n",
        "  check = int(input())\n",
        "\n",
        "#If the check number divides evenly to the first number, the output would \n",
        "#prompt the user. I do this by using the modulus operator. If the remainder\n",
        "#is zero, the number divided evenly\n",
        "  if (num % check) == 0:\n",
        "    print('The first number is evenly divisible by the second')\n",
        "\n",
        "#If the remainder is anything but zero, the number didnt divide evenly.\n",
        "#This would prompt the user accordingly.   \n",
        "  else:\n",
        "    print('The numbers are not evenly divisible ') "
      ],
      "metadata": {
        "id": "akK4gVZbxF2P"
      },
      "execution_count": 13,
      "outputs": []
    },
    {
      "cell_type": "code",
      "source": [
        "numCheck()"
      ],
      "metadata": {
        "colab": {
          "base_uri": "https://localhost:8080/"
        },
        "id": "Y8OnnIWRz9CF",
        "outputId": "06ee480c-8e00-4148-c56a-08f0e1506816"
      },
      "execution_count": 26,
      "outputs": [
        {
          "output_type": "stream",
          "name": "stdout",
          "text": [
            "Input 2 different numbers to see if the second divides evenly into the first: \n",
            "55\n",
            "5\n",
            "The first number is evenly divisible by the second\n"
          ]
        }
      ]
    },
    {
      "cell_type": "code",
      "source": [
        ""
      ],
      "metadata": {
        "id": "mf16U_V0z8_W"
      },
      "execution_count": null,
      "outputs": []
    },
    {
      "cell_type": "code",
      "source": [
        ""
      ],
      "metadata": {
        "id": "rCeL9a0Iz82O"
      },
      "execution_count": null,
      "outputs": []
    }
  ]
}