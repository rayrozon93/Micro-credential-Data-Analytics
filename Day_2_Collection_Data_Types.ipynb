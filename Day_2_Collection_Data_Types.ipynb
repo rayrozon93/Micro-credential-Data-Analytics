{
  "nbformat": 4,
  "nbformat_minor": 0,
  "metadata": {
    "colab": {
      "name": "Day 2 Collection Data Types.ipynb",
      "provenance": [],
      "authorship_tag": "ABX9TyO2/KQDV1IU64cGjbtPNEBF",
      "include_colab_link": true
    },
    "kernelspec": {
      "name": "python3",
      "display_name": "Python 3"
    },
    "language_info": {
      "name": "python"
    }
  },
  "cells": [
    {
      "cell_type": "markdown",
      "metadata": {
        "id": "view-in-github",
        "colab_type": "text"
      },
      "source": [
        "<a href=\"https://colab.research.google.com/github/rayrozon93/Micro-credential-Data-Analytics/blob/main/Day_2_Collection_Data_Types.ipynb\" target=\"_parent\"><img src=\"https://colab.research.google.com/assets/colab-badge.svg\" alt=\"Open In Colab\"/></a>"
      ]
    },
    {
      "cell_type": "markdown",
      "source": [
        "#Collection Data Types\n",
        "\n",
        "##Lists, dictionaries, Sets & Tuples\n",
        "\n",
        "##Lists"
      ],
      "metadata": {
        "id": "n4jLuDjiN-a4"
      }
    },
    {
      "cell_type": "code",
      "source": [
        "movies = ['star wars', 'star trek', 'lord of the rings', 'avengers']\n",
        "print(movies)"
      ],
      "metadata": {
        "colab": {
          "base_uri": "https://localhost:8080/"
        },
        "id": "y8IgCI2JOTzk",
        "outputId": "24229f38-2ddf-4bfd-858e-9b3358feb855"
      },
      "execution_count": null,
      "outputs": [
        {
          "output_type": "stream",
          "name": "stdout",
          "text": [
            "['star wars', 'star trek', 'lord of the rings', 'avengers']\n"
          ]
        }
      ]
    },
    {
      "cell_type": "code",
      "source": [
        "movies[0]"
      ],
      "metadata": {
        "colab": {
          "base_uri": "https://localhost:8080/",
          "height": 36
        },
        "id": "dA4oWuTVOTw4",
        "outputId": "3efa1895-0425-4766-d3aa-dc9dbbb1af43"
      },
      "execution_count": null,
      "outputs": [
        {
          "output_type": "execute_result",
          "data": {
            "application/vnd.google.colaboratory.intrinsic+json": {
              "type": "string"
            },
            "text/plain": [
              "'star wars'"
            ]
          },
          "metadata": {},
          "execution_count": 2
        }
      ]
    },
    {
      "cell_type": "code",
      "source": [
        "movies[1]"
      ],
      "metadata": {
        "colab": {
          "base_uri": "https://localhost:8080/",
          "height": 36
        },
        "id": "dLgda0P3OTuZ",
        "outputId": "dd2a6efd-b71a-4d5e-d793-d74d6f5382bd"
      },
      "execution_count": null,
      "outputs": [
        {
          "output_type": "execute_result",
          "data": {
            "application/vnd.google.colaboratory.intrinsic+json": {
              "type": "string"
            },
            "text/plain": [
              "'star trek'"
            ]
          },
          "metadata": {},
          "execution_count": 3
        }
      ]
    },
    {
      "cell_type": "code",
      "source": [
        "movies[2]"
      ],
      "metadata": {
        "colab": {
          "base_uri": "https://localhost:8080/",
          "height": 36
        },
        "id": "BXe3_3amOTfM",
        "outputId": "a9414da9-aaa5-452d-e608-2dabbc594065"
      },
      "execution_count": null,
      "outputs": [
        {
          "output_type": "execute_result",
          "data": {
            "application/vnd.google.colaboratory.intrinsic+json": {
              "type": "string"
            },
            "text/plain": [
              "'lord of the rings'"
            ]
          },
          "metadata": {},
          "execution_count": 4
        }
      ]
    },
    {
      "cell_type": "code",
      "source": [
        "movies[3]"
      ],
      "metadata": {
        "colab": {
          "base_uri": "https://localhost:8080/",
          "height": 36
        },
        "id": "lOy17Hu1OTcf",
        "outputId": "35edc912-eb87-4984-e0d5-9c6145d5044a"
      },
      "execution_count": null,
      "outputs": [
        {
          "output_type": "execute_result",
          "data": {
            "application/vnd.google.colaboratory.intrinsic+json": {
              "type": "string"
            },
            "text/plain": [
              "'avengers'"
            ]
          },
          "metadata": {},
          "execution_count": 5
        }
      ]
    },
    {
      "cell_type": "code",
      "source": [
        "movies = ['star wars', 'star trek', 'lord of the rings', 'avengers']\n",
        "#Here, I am assigning a list to the variable called 'movies'. \n",
        "\n",
        "message = \"My favorite movie is \" + movies[2].upper() + \"!!!\"\n",
        "print(message)"
      ],
      "metadata": {
        "colab": {
          "base_uri": "https://localhost:8080/"
        },
        "id": "8LSetB2IOTZa",
        "outputId": "fdf6140a-08c4-410a-909e-7357adf4f24f"
      },
      "execution_count": null,
      "outputs": [
        {
          "output_type": "stream",
          "name": "stdout",
          "text": [
            "My favorite movie is LORD OF THE RINGS!!!\n"
          ]
        }
      ]
    },
    {
      "cell_type": "code",
      "source": [
        "movies[1] = 'The Matrix'"
      ],
      "metadata": {
        "id": "k9PSgQOvOTOe"
      },
      "execution_count": null,
      "outputs": []
    },
    {
      "cell_type": "code",
      "source": [
        "movies[1]"
      ],
      "metadata": {
        "colab": {
          "base_uri": "https://localhost:8080/",
          "height": 36
        },
        "id": "obLn5QNGdFNe",
        "outputId": "8ba336a9-b4ba-4c3d-92f6-69c6d227c0e1"
      },
      "execution_count": null,
      "outputs": [
        {
          "output_type": "execute_result",
          "data": {
            "application/vnd.google.colaboratory.intrinsic+json": {
              "type": "string"
            },
            "text/plain": [
              "'The Matrix'"
            ]
          },
          "metadata": {},
          "execution_count": 13
        }
      ]
    },
    {
      "cell_type": "code",
      "source": [
        "print(movies)"
      ],
      "metadata": {
        "colab": {
          "base_uri": "https://localhost:8080/"
        },
        "id": "MJkYElDVdG9n",
        "outputId": "2f6854c9-3361-4c11-f42d-35cfdfb31da1"
      },
      "execution_count": null,
      "outputs": [
        {
          "output_type": "stream",
          "name": "stdout",
          "text": [
            "['star wars', 'The Matrix', 'lord of the rings', 'avengers']\n"
          ]
        }
      ]
    },
    {
      "cell_type": "code",
      "source": [
        "print(\"Input a number: \")\n",
        "number = int(input())\n",
        "\n",
        "print(\"Binary:\" + str(bin(number)))\n",
        "print(\"Octal:\" + str(oct(number)))\n",
        "print(\"Hexideciaml:\" + str(hex(number)))\n",
        "\n"
      ],
      "metadata": {
        "colab": {
          "base_uri": "https://localhost:8080/"
        },
        "id": "LAn_mFxkdNIk",
        "outputId": "666e0102-af5f-474d-c7a9-7078a9a28a87"
      },
      "execution_count": null,
      "outputs": [
        {
          "output_type": "stream",
          "name": "stdout",
          "text": [
            "Input a number: \n",
            "45\n",
            "Binary:0b101101\n",
            "Octal:0o55\n",
            "Hexideciaml:0x2d\n"
          ]
        }
      ]
    },
    {
      "cell_type": "code",
      "source": [
        ""
      ],
      "metadata": {
        "id": "kpv1O7YtiNjG"
      },
      "execution_count": null,
      "outputs": []
    },
    {
      "cell_type": "code",
      "source": [
        ""
      ],
      "metadata": {
        "id": "t5GT1bd-iNgT"
      },
      "execution_count": null,
      "outputs": []
    },
    {
      "cell_type": "code",
      "source": [
        ""
      ],
      "metadata": {
        "id": "gCxyj3FCiNeI"
      },
      "execution_count": null,
      "outputs": []
    },
    {
      "cell_type": "code",
      "source": [
        ""
      ],
      "metadata": {
        "id": "0g2wZK2piNTh"
      },
      "execution_count": null,
      "outputs": []
    }
  ]
}